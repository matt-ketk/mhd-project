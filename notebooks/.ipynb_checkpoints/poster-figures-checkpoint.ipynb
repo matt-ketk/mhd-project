{
 "cells": [
  {
   "cell_type": "code",
   "execution_count": 1,
   "id": "291a6480-7f15-43d5-ad83-f54c8c1cfd0b",
   "metadata": {},
   "outputs": [],
   "source": [
    "import numpy as np\n",
    "import matplotlib.pyplot as plt\n",
    "from matplotlib import cm\n",
    "from mpl_toolkits.axes_grid1 import make_axes_locatable"
   ]
  },
  {
   "cell_type": "markdown",
   "id": "ee53884f-bb04-4e27-baf3-42357102df56",
   "metadata": {},
   "source": [
    "# Formulas\n",
    "$$k_l = \\pm i \\kappa_l = \\sqrt{\\left({\\frac{lm}{a}}\\right)^2 - \\mu^2}$$"
   ]
  },
  {
   "cell_type": "markdown",
   "id": "360e1cd9-8931-4a9e-a919-a8ade5f6feea",
   "metadata": {},
   "source": [
    "\\begin{equation}\n",
    "\\begin{split}\n",
    "    \\hat{\\psi}_+ (x,y) & = -\\overline{\\psi}\\cos{\\mu x} \\\\\n",
    "                       & + \\frac{2\\alpha \\psi_a}{\\sinh{\\kappa_1 a}} \\sinh{\\kappa_1 x} \\cos\\left( \\frac{my}{a} \\right) \\\\\n",
    "                       & + \\frac{2\\alpha \\psi_a \\gamma_s \\kappa_1}{\\mu \\sinh\\left( \\kappa_1 a \\right) } \\sin\\left( \\mu x \\right) \n",
    "\\end{split}\n",
    "\\end{equation}"
   ]
  },
  {
   "cell_type": "code",
   "execution_count": 48,
   "id": "772793cc-7478-437a-a08e-2a52bccb0aa9",
   "metadata": {},
   "outputs": [],
   "source": [
    "# define parameters\n",
    "a = 1\n",
    "B_a = 1\n",
    "mu0 = 1.4\n",
    "mu = 1\n",
    "alpha = 0.005\n",
    "\n",
    "psi_bar = 1\n",
    "psi_a = B_a / mu0 * np.tan(mu0 * a)\n",
    "gamma_s = 400 * 0.05\n",
    "\n",
    "kappa_1 = np.sqrt((1 * 2) ** 2 - mu ** 2)\n",
    "\n",
    "X = np.linspace(0, 1.2*a, 100)\n",
    "Y = np.linspace(-1*a, 1*a, 100)\n",
    "X, Y = np.meshgrid(X, Y)\n",
    "\n",
    "flux = -psi_bar * np.cos(mu * X)\n",
    "flux += 2 * alpha * psi_a / np.sinh(kappa_1 * a) * np.sinh(kappa_1 * X) * np.cos(mu * Y)\n",
    "flux += 2 * alpha * psi_a * gamma_s * kappa_1 / (mu * np.sinh(kappa_1 * a)) * np.sin(mu * X)\n",
    "# flux = np.abs(flux)\n"
   ]
  },
  {
   "cell_type": "code",
   "execution_count": 49,
   "id": "52c1d976-2855-4a2b-8a3e-35c52c2a2a35",
   "metadata": {},
   "outputs": [
    {
     "data": {
      "image/png": "[encoded data removed]",
      "text/plain": [
       "<Figure size 432x576 with 2 Axes>"
      ]
     },
     "metadata": {
      "needs_background": "light"
     },
     "output_type": "display_data"
    }
   ],
   "source": [
    "fig, ax = plt.subplots(figsize=(6,8))\n",
    "\n",
    "im = ax.pcolormesh(Y, X, flux, cmap=cm.plasma)\n",
    "ax.plot(Y, a*(1-alpha*np.cos(1 * 2 * Y / a)),'-b')\n",
    "ax.text(-0.5,1.05,'$x_{bdy}(y)=a\\\\left(1-α \\\\cos\\\\left(\\\\frac{lmy}{a}\\\\right)\\\\right)$', color='b')\n",
    "ax.set_title('Flux $\\psi$ magnitude with Bdy-1 applied')\n",
    "ax.set_ylabel('$x/a$');\n",
    "ax.set_xlabel('$y/a$');\n",
    "\n",
    "\n",
    "divider = make_axes_locatable(ax)\n",
    "cax = divider.append_axes(\"right\", size=\"5%\", pad=0.2)\n",
    "\n",
    "fig.colorbar(im, cax=cax);\n",
    "\n",
    "fig.savefig('bdy-1_general-solution.png', transparent=False);"
   ]
  },
  {
   "cell_type": "code",
   "execution_count": null,
   "id": "44911ac2-9015-4508-8aa3-0acdc304ec1a",
   "metadata": {},
   "outputs": [],
   "source": []
  }
 ],
 "metadata": {
  "kernelspec": {
   "display_name": "Python 3 (ipykernel)",
   "language": "python",
   "name": "python3"
  },
  "language_info": {
   "codemirror_mode": {
    "name": "ipython",
    "version": 3
   },
   "file_extension": ".py",
   "mimetype": "text/x-python",
   "name": "python",
   "nbconvert_exporter": "python",
   "pygments_lexer": "ipython3",
   "version": "3.9.12"
  }
 },
 "nbformat": 4,
 "nbformat_minor": 5
}
