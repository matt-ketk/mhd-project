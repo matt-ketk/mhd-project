{
 "cells": [
  {
   "cell_type": "code",
   "execution_count": 1,
   "id": "09bdc1f6-75f3-4b13-aa79-b7902108df6c",
   "metadata": {},
   "outputs": [],
   "source": [
    "import numpy as np\n",
    "from sympy import *\n",
    "import matplotlib.pyplot as plt\n",
    "\n",
    "media_path = './media/'"
   ]
  },
  {
   "cell_type": "markdown",
   "id": "63597ac4-ff84-4a9f-ba98-97e1e73924fa",
   "metadata": {},
   "source": [
    "# Equation Draft Space"
   ]
  },
  {
   "cell_type": "markdown",
   "id": "2f07fa8f-8dfc-4e18-b22d-3a3369fbfcf2",
   "metadata": {},
   "source": [
    "## Coefficients"
   ]
  },
  {
   "cell_type": "markdown",
   "id": "3abce523-9ec2-4333-893f-5a34565a9b54",
   "metadata": {},
   "source": [
    "$$d_0\\sin{\\mu a}=\\frac{\\psi_a - \\overline{\\psi}- \\overline{F}/\\mu}{J_0(\\mu a \\alpha)}+\\left( \\frac{\\overline{F}}{\\mu}+\\overline{\\psi} \\right)\\cos{\\mu a} $$"
   ]
  },
  {
   "cell_type": "markdown",
   "id": "6a9d696f-1578-4016-8b13-ee77fa9b23ad",
   "metadata": {},
   "source": [
    "## The case for $A_{1mn}$\n",
    "\n",
    "- can combine terms (2) and (8) together to get the following coefficient: $A_{1mn}$\n",
    "- for term (8): must write term for when index is $n=0$ explicitly separate from the sum $(A_{1m(n=0)})$\n",
    "- it follows that $A_{1m(n=0)}=0$\n",
    "    - $$\\sum_{n=1}^\\infty A_{1mn} = \\frac{\\overline{F}}{\\mu} \\cos{\\mu a} \\sum_{n=1}^\\infty (-1)^n J_{2n}(\\mu a \\alpha)$$\n",
    "    - which implies $$A_{1mn} = (-1)^n \\frac{\\overline{F}}{\\mu} J_{2n}(\\mu a \\alpha)\\cos(\\mu a)$$"
   ]
  },
  {
   "cell_type": "markdown",
   "id": "c90f7d3b-22c1-42f0-a2b6-97033bd3fe7d",
   "metadata": {},
   "source": [
    "## Modes (multiples of $\\frac{m}{a}$)\n",
    "- $2n$: 1, 2, 8\n",
    "- $2n+1$: 1, 3, 4 ($l=2n+1$), 5 ($l=1$)\n",
    "- $l$: 1, 2 ($l=2n$), 3 ($l=2n+1$), 4\n",
    "- $2n+l$: 1, 3 (l=1) *term 3 does not depend on l?*, 4 (n=0)\n",
    "- $2n-l$: 1, 4 ($l=n$), 6\n",
    "- $2n+l+1$: 1, 7\n",
    "- $2n-l+1$: 1, 2 ($l=1$), 8"
   ]
  },
  {
   "cell_type": "markdown",
   "id": "8563e1c7-7138-4842-abfe-c987a93c0595",
   "metadata": {},
   "source": [
    "# "
   ]
  }
 ],
 "metadata": {
  "kernelspec": {
   "display_name": "Python 3 (ipykernel)",
   "language": "python",
   "name": "python3"
  },
  "language_info": {
   "codemirror_mode": {
    "name": "ipython",
    "version": 3
   },
   "file_extension": ".py",
   "mimetype": "text/x-python",
   "name": "python",
   "nbconvert_exporter": "python",
   "pygments_lexer": "ipython3",
   "version": "3.9.12"
  }
 },
 "nbformat": 4,
 "nbformat_minor": 5
}
